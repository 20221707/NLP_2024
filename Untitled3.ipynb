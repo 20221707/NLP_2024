{
  "nbformat": 4,
  "nbformat_minor": 0,
  "metadata": {
    "colab": {
      "provenance": [],
      "authorship_tag": "ABX9TyPUqRf8s5kzGTWHOnsHi+Qc",
      "include_colab_link": true
    },
    "kernelspec": {
      "name": "python3",
      "display_name": "Python 3"
    },
    "language_info": {
      "name": "python"
    }
  },
  "cells": [
    {
      "cell_type": "markdown",
      "metadata": {
        "id": "view-in-github",
        "colab_type": "text"
      },
      "source": [
        "<a href=\"https://colab.research.google.com/github/20221707/NLP_2024/blob/main/Untitled3.ipynb\" target=\"_parent\"><img src=\"https://colab.research.google.com/assets/colab-badge.svg\" alt=\"Open In Colab\"/></a>"
      ]
    },
    {
      "cell_type": "markdown",
      "source": [
        "# **Mymajor**\n",
        "\n",
        "# 제 전공은 **경찰학과** 입니다 🚓🚨\n",
        "\n",
        "### **1. 먼저 경찰 이란?**\n",
        "- 경찰은 국민의 생명·신체·재산의 보호, 범죄의 예방·진압·수사, 교통·소방 기타 공공의 안녕과 질서를 유지하기 위한 행정작용을 뜻하는 직업입니다.\n",
        "\n",
        "### **2. 경찰이 되기 위해선?**\n",
        "- 헌법, 형사법, 경찰학, 한국사, 영어로 구성 되어있는 필기 시험을 합격 후 체력 시험과 면접을 통해 경찰공무원이 될 수 있습니다. (1년에 1번 가능)\n",
        "\n",
        "- 경찰학과를 졸업 또는 전공 45학점 이상 수료한 학생들은 1년에 2번 응시의 기회가 주어집니다.\n",
        "- 더욱 자세한 자료는 [이곳을!](https://blog.naver.com/bread082/223357132815)\n",
        "\n",
        "### **3. 무엇을 배우는 학과일까?**\n",
        "- 저희 학과는 형사소송법과 범죄학개론 또한 무도 수업 등을 배우고\n",
        "다양한 활동을 통해 윤리의식·책임감·사명감 그리고 봉사정신과 같은 인성 및 역량을 키워나갈 수 있는 학과 입니다.\n",
        "\n",
        "### **4. 졸업 후 진로**\n",
        "\n",
        "위의 배운점들을 토대로 경찰공무원 또는 소방과 경호쪽으로도 진로를 키워나갈 수 있고, 배운걸 토대로 더 노력하여 검찰직으로도 나아갈 수 있습니다.\n",
        "\n",
        "### **5. 학과 홈페이지**\n",
        "- [한남대학교 경찰학과](https://www.hannam.ac.kr/kor/educate/educate_0105_09.html)"
      ],
      "metadata": {
        "id": "-K6IACd2pQiz"
      }
    }
  ]
}